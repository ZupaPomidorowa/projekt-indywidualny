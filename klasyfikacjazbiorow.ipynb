{
  "nbformat": 4,
  "nbformat_minor": 0,
  "metadata": {
    "colab": {
      "provenance": []
    },
    "kernelspec": {
      "name": "python3",
      "display_name": "Python 3"
    },
    "language_info": {
      "name": "python"
    }
  },
  "cells": [
    {
      "cell_type": "markdown",
      "source": [
        "#Klasyfikacja zbiorów: MNIST, CIFAR-10, CIFAR-100\n"
      ],
      "metadata": {
        "id": "mmTJFDl-RyhH"
      }
    },
    {
      "cell_type": "code",
      "source": [
        "from keras.datasets import mnist\n",
        "from keras.datasets import cifar10\n",
        "\n",
        "from keras import models\n",
        "from keras import layers\n",
        "from keras.utils import to_categorical"
      ],
      "metadata": {
        "id": "zFFiBQuhSbbB"
      },
      "execution_count": null,
      "outputs": []
    },
    {
      "cell_type": "markdown",
      "source": [
        "# MNIST"
      ],
      "metadata": {
        "id": "0OvK68LOLSxh"
      }
    },
    {
      "cell_type": "markdown",
      "source": [
        "**Przygotowanie danych**"
      ],
      "metadata": {
        "id": "LOARULnZ3mta"
      }
    },
    {
      "cell_type": "code",
      "source": [
        "(train_images, train_labels), (test_images, test_labels) = mnist.load_data()\n",
        "print('Train dataset')\n",
        "print(train_images.shape)\n",
        "print(len(train_labels))\n",
        "print(train_labels)\n",
        "print('Test dataset')\n",
        "print(test_images.shape)\n",
        "print(len(test_labels))\n",
        "print(test_labels)"
      ],
      "metadata": {
        "colab": {
          "base_uri": "https://localhost:8080/"
        },
        "id": "6dshN6FA2tWQ",
        "outputId": "546d204a-9c2e-487b-dd2c-40d8dbf96ff3"
      },
      "execution_count": null,
      "outputs": [
        {
          "output_type": "stream",
          "name": "stdout",
          "text": [
            "Downloading data from https://storage.googleapis.com/tensorflow/tf-keras-datasets/mnist.npz\n",
            "11490434/11490434 [==============================] - 0s 0us/step\n",
            "Train dataset\n",
            "(60000, 28, 28)\n",
            "60000\n",
            "[5 0 4 ... 5 6 8]\n",
            "Test dataset\n",
            "(10000, 28, 28)\n",
            "10000\n",
            "[7 2 1 ... 4 5 6]\n"
          ]
        }
      ]
    },
    {
      "cell_type": "markdown",
      "source": [
        "\n",
        "\n",
        "*   Zbiór MNIST składa się z obrazów ręcznie zapisanych cyfr o 10 kategoriach \n",
        "(cyfry 0-9)\n",
        "*   Zbiór treningowy składa się z 60000 obrazów o rozmiarze 28x28 \n",
        "*   Zbiór testowy składa się z 10000 obrazów o rozmiarze 28x28 \n"
      ],
      "metadata": {
        "id": "Qkzk1OgJ5GfP"
      }
    },
    {
      "cell_type": "markdown",
      "source": [
        "Przygotowanie danych w postaci obrazów "
      ],
      "metadata": {
        "id": "tbro7QI1_DVH"
      }
    },
    {
      "cell_type": "code",
      "source": [
        "train_images = train_images.reshape((60000, 28*28))\n",
        "train_images = train_images.astype('float32') / 255\n",
        "\n",
        "test_images = test_images.reshape((10000, 28*28))\n",
        "test_images = test_images.astype('float32') / 255"
      ],
      "metadata": {
        "id": "sR8O-IQZ_Mo2"
      },
      "execution_count": null,
      "outputs": []
    },
    {
      "cell_type": "markdown",
      "source": [
        "* Przeskalowanie pikseli z [0-255] do [0-1]\n",
        "* Zmiana z typu uint8 na float32\n",
        "* Wyjście w postaci 1 wymiarowego tensora: [60000, 28 28], [10000, 28 28]"
      ],
      "metadata": {
        "id": "h_L76KgTAKtf"
      }
    },
    {
      "cell_type": "markdown",
      "source": [
        "Przygotowanie etykiet"
      ],
      "metadata": {
        "id": "q_Ga1tx-A9sG"
      }
    },
    {
      "cell_type": "code",
      "source": [
        "train_labels = to_categorical(train_labels)\n",
        "test_labels = to_categorical(test_labels)"
      ],
      "metadata": {
        "id": "-6f9cKTGA0wi"
      },
      "execution_count": null,
      "outputs": []
    },
    {
      "cell_type": "markdown",
      "source": [
        "Zamiana etykiet z wartości [0, 9] na 10 wymiarowy wektor który ma reprezentować cyfrę w postaci 'binarnej'"
      ],
      "metadata": {
        "id": "yo3dGs5cGGDo"
      }
    },
    {
      "cell_type": "markdown",
      "source": [
        "**Tworzenie sieci**"
      ],
      "metadata": {
        "id": "qVEThGGuNiq9"
      }
    },
    {
      "cell_type": "code",
      "source": [
        "network = models.Sequential()\n",
        "network.add(layers.Dense(512, activation='relu', input_shape=(28*28,)))\n",
        "network.add(layers.Dense(10, activation='softmax'))"
      ],
      "metadata": {
        "id": "2SnZlzCc6p0-"
      },
      "execution_count": null,
      "outputs": []
    },
    {
      "cell_type": "markdown",
      "source": [
        "* Sequential - model sieci z sekwencją warstw, z których każda stopniowo ekstraktuje dane w celu uzyskania pożądanego wyniku\n",
        "* Dense - sieci połączone gęsto\n",
        "* Relu - funkcja nieliniowa, dodatnie wejścia przechodzą bez zmian, jednocześnie ograniczając wszystko inne do zera\n",
        "* Softmax - zamienia wektor liczb na wektor prawdopodobieństw\n",
        "* Druga warstwa jest 10-elementową wartstwą zawracającą tablicę 10 wartości prawdopodbieństwa (których suma = 1), oznacza to prawdopodbienstwo wystapienia cyfry na obrazie"
      ],
      "metadata": {
        "id": "1F8Zu_3O81H-"
      }
    },
    {
      "cell_type": "markdown",
      "source": [
        "Kompilacja sieci"
      ],
      "metadata": {
        "id": "uOBGnua1QYYM"
      }
    },
    {
      "cell_type": "code",
      "source": [
        "network.compile(optimizer='rmsprop',\n",
        "                loss='categorical_crossentropy',\n",
        "                metrics=['accuracy'])"
      ],
      "metadata": {
        "id": "h1W947WW9vJZ"
      },
      "execution_count": null,
      "outputs": []
    },
    {
      "cell_type": "markdown",
      "source": [
        "*   Optymalizator - rmsprop   \n",
        "*   Funkcja straty - \n",
        "*   Metryka - accuracy - liczba poprawnie zaklasyfikowanych obrazów\n",
        "\n"
      ],
      "metadata": {
        "id": "B_J6HnlYQjRO"
      }
    },
    {
      "cell_type": "markdown",
      "source": [
        "Trenowanie sieci"
      ],
      "metadata": {
        "id": "kaZaUxA3Bqxj"
      }
    },
    {
      "cell_type": "code",
      "source": [
        "network.fit(train_images, train_labels, epochs=5, batch_size=128)"
      ],
      "metadata": {
        "colab": {
          "base_uri": "https://localhost:8080/"
        },
        "id": "gTsDdVXmBuWq",
        "outputId": "fc8fe907-73f4-48f0-afa2-0b7a1e437aac"
      },
      "execution_count": null,
      "outputs": [
        {
          "output_type": "stream",
          "name": "stdout",
          "text": [
            "Epoch 1/5\n",
            "469/469 [==============================] - 3s 6ms/step - loss: 0.2642 - accuracy: 0.9244\n",
            "Epoch 2/5\n",
            "469/469 [==============================] - 3s 6ms/step - loss: 0.1071 - accuracy: 0.9691\n",
            "Epoch 3/5\n",
            "469/469 [==============================] - 3s 6ms/step - loss: 0.0698 - accuracy: 0.9793\n",
            "Epoch 4/5\n",
            "469/469 [==============================] - 3s 7ms/step - loss: 0.0510 - accuracy: 0.9850\n",
            "Epoch 5/5\n",
            "469/469 [==============================] - 3s 6ms/step - loss: 0.0374 - accuracy: 0.9887\n"
          ]
        },
        {
          "output_type": "execute_result",
          "data": {
            "text/plain": [
              "<keras.callbacks.History at 0x7fecfdedbe80>"
            ]
          },
          "metadata": {},
          "execution_count": 8
        }
      ]
    },
    {
      "cell_type": "code",
      "source": [
        "test_loss, test_acc = network.evaluate(test_images, test_labels)\n",
        "print('test_loss: ', test_loss)\n",
        "print('test_acc: ', test_acc*100)"
      ],
      "metadata": {
        "colab": {
          "base_uri": "https://localhost:8080/"
        },
        "id": "DoHz6W60C7UU",
        "outputId": "ac0843b9-fd0f-44e5-b48a-b26ccae96c40"
      },
      "execution_count": null,
      "outputs": [
        {
          "output_type": "stream",
          "name": "stdout",
          "text": [
            "313/313 [==============================] - 1s 2ms/step - loss: 0.0694 - accuracy: 0.9780\n",
            "test_loss:  0.06939179450273514\n",
            "test_acc:  97.79999852180481\n"
          ]
        }
      ]
    },
    {
      "cell_type": "markdown",
      "source": [
        "# CIFAR-10"
      ],
      "metadata": {
        "id": "a6vy9NH6S8rC"
      }
    },
    {
      "cell_type": "markdown",
      "source": [
        "**Przygotowanie danych**"
      ],
      "metadata": {
        "id": "KH8dU3dGXKgz"
      }
    },
    {
      "cell_type": "code",
      "source": [
        "(train_images, train_labels), (test_images, test_labels) = cifar10.load_data()\n",
        "print('Train dataset')\n",
        "print(train_images.shape)\n",
        "print(len(train_labels))\n",
        "print(train_labels.shape)\n",
        "print('Test dataset')\n",
        "print(test_images.shape)\n",
        "print(len(test_labels))\n",
        "print(test_labels.shape)"
      ],
      "metadata": {
        "colab": {
          "base_uri": "https://localhost:8080/"
        },
        "id": "uJ3E_aiqXPFe",
        "outputId": "90c9580e-c9f3-4f7c-dea4-e3c9f8cecfb7"
      },
      "execution_count": null,
      "outputs": [
        {
          "output_type": "stream",
          "name": "stdout",
          "text": [
            "Downloading data from https://www.cs.toronto.edu/~kriz/cifar-10-python.tar.gz\n",
            "170498071/170498071 [==============================] - 6s 0us/step\n",
            "Train dataset\n",
            "(50000, 32, 32, 3)\n",
            "50000\n",
            "(50000, 1)\n",
            "Test dataset\n",
            "(10000, 32, 32, 3)\n",
            "10000\n",
            "(10000, 1)\n"
          ]
        }
      ]
    },
    {
      "cell_type": "markdown",
      "source": [
        "*   Zbiór CIFAR-10 składa się z  60000 kolorowych obrazów o wymiarach 32×32 w 10 klasach\n",
        "*   Zbiór treningowy składa się z 50000 obrazów\n",
        "*   Zbiór testowy składa się z 10000 obrazów"
      ],
      "metadata": {
        "id": "wx3ZcrMzZDHY"
      }
    },
    {
      "cell_type": "markdown",
      "source": [
        "Przygotowanie danych w postaci obrazów"
      ],
      "metadata": {
        "id": "RwiiRqFhZkav"
      }
    },
    {
      "cell_type": "code",
      "source": [
        "train_images = train_images.astype('float32') / 255\n",
        "test_images = test_images.astype('float32') / 255"
      ],
      "metadata": {
        "id": "j3fy6MAMZjGv"
      },
      "execution_count": null,
      "outputs": []
    },
    {
      "cell_type": "markdown",
      "source": [
        "Przygotowanie etykiet"
      ],
      "metadata": {
        "id": "fcRujksCaHgl"
      }
    },
    {
      "cell_type": "code",
      "source": [
        "train_labels = to_categorical(train_labels)\n",
        "test_labels = to_categorical(test_labels)"
      ],
      "metadata": {
        "id": "2Dj6fCa0aJvD"
      },
      "execution_count": null,
      "outputs": []
    },
    {
      "cell_type": "markdown",
      "source": [
        "Tworzenie sieci"
      ],
      "metadata": {
        "id": "c5bYaSPyaaUf"
      }
    },
    {
      "cell_type": "code",
      "source": [
        "network = models.Sequential()\n",
        "\n",
        "network.add(layers.Conv2D(32, (3,3), padding='same', activation='relu', input_shape=(32,32,3)))\n",
        "network.add(layers.BatchNormalization())\n",
        "network.add(layers.Conv2D(32, (3,3), padding='same', activation='relu'))\n",
        "network.add(layers.BatchNormalization())\n",
        "network.add(layers.MaxPooling2D(pool_size=(2,2)))\n",
        "network.add(layers.Dropout(0.3))\n",
        "\n",
        "network.add(layers.Conv2D(64, (3,3), padding='same', activation='relu'))\n",
        "network.add(layers.BatchNormalization())\n",
        "network.add(layers.Conv2D(64, (3,3), padding='same', activation='relu'))\n",
        "network.add(layers.BatchNormalization())\n",
        "network.add(layers.MaxPooling2D(pool_size=(2,2)))\n",
        "network.add(layers.Dropout(0.5))\n",
        "\n",
        "network.add(layers.Conv2D(128, (3,3), padding='same', activation='relu'))\n",
        "network.add(layers.BatchNormalization())\n",
        "network.add(layers.Conv2D(128, (3,3), padding='same', activation='relu'))\n",
        "network.add(layers.BatchNormalization())\n",
        "network.add(layers.MaxPooling2D(pool_size=(2,2)))\n",
        "network.add(layers.Dropout(0.5))\n",
        "\n",
        "network.add(layers.Flatten())\n",
        "network.add(layers.Dense(128, activation='relu'))\n",
        "network.add(layers.BatchNormalization())\n",
        "network.add(layers.Dropout(0.5))\n",
        "network.add(layers.Dense(10, activation='softmax'))    # num_classes = 10\n"
      ],
      "metadata": {
        "id": "zrwf5WzOacKz"
      },
      "execution_count": null,
      "outputs": []
    },
    {
      "cell_type": "markdown",
      "source": [
        "Kompilacja sieci"
      ],
      "metadata": {
        "id": "hjg2OX3Ta_xo"
      }
    },
    {
      "cell_type": "code",
      "source": [
        "network.compile(optimizer='adam', \n",
        "              loss='categorical_crossentropy', \n",
        "              metrics=['accuracy'])"
      ],
      "metadata": {
        "id": "w83Mv-OebBh4"
      },
      "execution_count": null,
      "outputs": []
    },
    {
      "cell_type": "markdown",
      "source": [
        "Trenowanie sieci"
      ],
      "metadata": {
        "id": "SBgMtrLSbWJE"
      }
    },
    {
      "cell_type": "code",
      "source": [
        "history = network.fit(train_images, train_labels, batch_size=64, epochs=10,\n",
        "                    validation_data=(test_images, test_labels))"
      ],
      "metadata": {
        "colab": {
          "base_uri": "https://localhost:8080/"
        },
        "id": "AzUls_Y2cAEJ",
        "outputId": "b6aee45f-a7a6-46f2-c2ae-9f5861029447"
      },
      "execution_count": null,
      "outputs": [
        {
          "output_type": "stream",
          "name": "stdout",
          "text": [
            "Epoch 1/10\n",
            "782/782 [==============================] - 281s 360ms/step - loss: 1.6306 - accuracy: 0.4235 - val_loss: 1.2409 - val_accuracy: 0.5543\n",
            "Epoch 2/10\n",
            "782/782 [==============================] - 286s 366ms/step - loss: 1.1571 - accuracy: 0.5856 - val_loss: 0.9430 - val_accuracy: 0.6706\n",
            "Epoch 3/10\n",
            "782/782 [==============================] - 283s 362ms/step - loss: 0.9754 - accuracy: 0.6563 - val_loss: 1.1149 - val_accuracy: 0.6189\n",
            "Epoch 4/10\n",
            "782/782 [==============================] - 283s 363ms/step - loss: 0.8765 - accuracy: 0.6925 - val_loss: 0.8183 - val_accuracy: 0.7181\n",
            "Epoch 5/10\n",
            "782/782 [==============================] - 284s 363ms/step - loss: 0.8067 - accuracy: 0.7202 - val_loss: 0.6987 - val_accuracy: 0.7598\n",
            "Epoch 6/10\n",
            "782/782 [==============================] - 291s 372ms/step - loss: 0.7555 - accuracy: 0.7388 - val_loss: 0.8327 - val_accuracy: 0.7127\n",
            "Epoch 7/10\n",
            "782/782 [==============================] - 284s 363ms/step - loss: 0.7037 - accuracy: 0.7570 - val_loss: 0.6100 - val_accuracy: 0.7881\n",
            "Epoch 8/10\n",
            "782/782 [==============================] - 284s 363ms/step - loss: 0.6701 - accuracy: 0.7711 - val_loss: 0.6975 - val_accuracy: 0.7602\n",
            "Epoch 9/10\n",
            "782/782 [==============================] - 284s 363ms/step - loss: 0.6387 - accuracy: 0.7800 - val_loss: 0.5716 - val_accuracy: 0.8068\n",
            "Epoch 10/10\n",
            "782/782 [==============================] - 283s 362ms/step - loss: 0.6115 - accuracy: 0.7911 - val_loss: 0.6428 - val_accuracy: 0.7859\n"
          ]
        }
      ]
    },
    {
      "cell_type": "code",
      "source": [
        "test_loss, test_acc = network.evaluate(test_images, test_labels)\n",
        "print('test_loss: ', test_loss)\n",
        "print('test_acc: ', test_acc*100)"
      ],
      "metadata": {
        "id": "YhdiqAOdnyxQ",
        "outputId": "0ff74b9a-ed6d-4542-d2b5-168689555c69",
        "colab": {
          "base_uri": "https://localhost:8080/"
        }
      },
      "execution_count": null,
      "outputs": [
        {
          "output_type": "stream",
          "name": "stdout",
          "text": [
            "313/313 [==============================] - 14s 43ms/step - loss: 0.6428 - accuracy: 0.7859\n",
            "test_loss:  0.6428285837173462\n",
            "test_acc:  78.58999967575073\n"
          ]
        }
      ]
    }
  ]
}